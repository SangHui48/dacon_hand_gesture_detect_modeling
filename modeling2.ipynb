{
 "cells": [
  {
   "cell_type": "code",
   "execution_count": 1,
   "metadata": {},
   "outputs": [],
   "source": [
    "import cv2\n",
    "import glob\n",
    "import numpy as np\n",
    "import matplotlib.pyplot as plt\n",
    "from skimage.transform import resize\n",
    "from IPython.display import clear_output\n",
    "from matplotlib.pyplot import imshow\n",
    "import pandas as pd\n",
    "from tensorflow.keras.layers import *\n",
    "from tensorflow.keras.models import Sequential, Model\n",
    "from tensorflow.keras.utils import to_categorical\n",
    "from tensorflow.keras.losses import *\n",
    "from tensorflow.keras.optimizers import *\n",
    "from tensorflow.keras.activations import *\n",
    "from tensorflow.keras.metrics import *\n",
    "from sklearn.model_selection import train_test_split\n",
    "import tensorflow.keras as keras\n",
    "import tensorflow as tf\n",
    "from tensorflow.keras import backend as k\n",
    "from tqdm.auto import tqdm\n",
    "import tensorflow_addons as tfa"
   ]
  },
  {
   "attachments": {},
   "cell_type": "markdown",
   "metadata": {},
   "source": [
    "## Reading data"
   ]
  },
  {
   "cell_type": "code",
   "execution_count": 2,
   "metadata": {},
   "outputs": [
    {
     "data": {
      "text/html": [
       "<div>\n",
       "<style scoped>\n",
       "    .dataframe tbody tr th:only-of-type {\n",
       "        vertical-align: middle;\n",
       "    }\n",
       "\n",
       "    .dataframe tbody tr th {\n",
       "        vertical-align: top;\n",
       "    }\n",
       "\n",
       "    .dataframe thead th {\n",
       "        text-align: right;\n",
       "    }\n",
       "</style>\n",
       "<table border=\"1\" class=\"dataframe\">\n",
       "  <thead>\n",
       "    <tr style=\"text-align: right;\">\n",
       "      <th></th>\n",
       "      <th>id</th>\n",
       "      <th>path</th>\n",
       "      <th>label</th>\n",
       "    </tr>\n",
       "  </thead>\n",
       "  <tbody>\n",
       "    <tr>\n",
       "      <th>0</th>\n",
       "      <td>TRAIN_000</td>\n",
       "      <td>./train/TRAIN_000.mp4</td>\n",
       "      <td>3</td>\n",
       "    </tr>\n",
       "    <tr>\n",
       "      <th>1</th>\n",
       "      <td>TRAIN_001</td>\n",
       "      <td>./train/TRAIN_001.mp4</td>\n",
       "      <td>0</td>\n",
       "    </tr>\n",
       "    <tr>\n",
       "      <th>2</th>\n",
       "      <td>TRAIN_002</td>\n",
       "      <td>./train/TRAIN_002.mp4</td>\n",
       "      <td>1</td>\n",
       "    </tr>\n",
       "    <tr>\n",
       "      <th>3</th>\n",
       "      <td>TRAIN_003</td>\n",
       "      <td>./train/TRAIN_003.mp4</td>\n",
       "      <td>4</td>\n",
       "    </tr>\n",
       "    <tr>\n",
       "      <th>4</th>\n",
       "      <td>TRAIN_004</td>\n",
       "      <td>./train/TRAIN_004.mp4</td>\n",
       "      <td>4</td>\n",
       "    </tr>\n",
       "  </tbody>\n",
       "</table>\n",
       "</div>"
      ],
      "text/plain": [
       "          id                   path  label\n",
       "0  TRAIN_000  ./train/TRAIN_000.mp4      3\n",
       "1  TRAIN_001  ./train/TRAIN_001.mp4      0\n",
       "2  TRAIN_002  ./train/TRAIN_002.mp4      1\n",
       "3  TRAIN_003  ./train/TRAIN_003.mp4      4\n",
       "4  TRAIN_004  ./train/TRAIN_004.mp4      4"
      ]
     },
     "execution_count": 2,
     "metadata": {},
     "output_type": "execute_result"
    }
   ],
   "source": [
    "train_df = pd.read_csv('./data/train.csv')\n",
    "train_df.head()"
   ]
  },
  {
   "cell_type": "code",
   "execution_count": 3,
   "metadata": {},
   "outputs": [
    {
     "data": {
      "text/plain": [
       "610"
      ]
     },
     "execution_count": 3,
     "metadata": {},
     "output_type": "execute_result"
    }
   ],
   "source": [
    "len(train_df)"
   ]
  },
  {
   "cell_type": "code",
   "execution_count": 4,
   "metadata": {},
   "outputs": [
    {
     "data": {
      "application/vnd.jupyter.widget-view+json": {
       "model_id": "6dddc2f09e2146efb0f1c2ef49942541",
       "version_major": 2,
       "version_minor": 0
      },
      "text/plain": [
       "  0%|          | 0/610 [00:00<?, ?it/s]"
      ]
     },
     "metadata": {},
     "output_type": "display_data"
    }
   ],
   "source": [
    "content = []\n",
    "y = []\n",
    "\n",
    "for i in tqdm(range(len(train_df))):\n",
    "    file = train_df.loc[i, 'id']\n",
    "    fname = f'{file}.mp4'\n",
    "    label = train_df.loc[i, 'label']\n",
    "    content.append(fname)\n",
    "    y.append(label)"
   ]
  },
  {
   "cell_type": "code",
   "execution_count": 5,
   "metadata": {},
   "outputs": [],
   "source": [
    "content = np.array(content)\n",
    "y = np.array(y)"
   ]
  },
  {
   "cell_type": "code",
   "execution_count": 6,
   "metadata": {},
   "outputs": [
    {
     "data": {
      "text/plain": [
       "((610,), (610,))"
      ]
     },
     "execution_count": 6,
     "metadata": {},
     "output_type": "execute_result"
    }
   ],
   "source": [
    "content.shape, y.shape"
   ]
  },
  {
   "cell_type": "code",
   "execution_count": 7,
   "metadata": {},
   "outputs": [],
   "source": [
    "def read_frames(root_folder, arr, each_nth=10):\n",
    "    videos=[]\n",
    "    for j  in range(len(arr)):\n",
    "        clear_output()\n",
    "        print(np.round(100*j/len(arr),3))\n",
    "            \n",
    "        vcap=cv2.VideoCapture(root_folder+arr[j])\n",
    "        success=True\n",
    "  \n",
    "        frames=[]\n",
    "        cnt=0\n",
    "        while success:\n",
    "            try:\n",
    "              success,image=vcap.read()\n",
    "              cnt+=1\n",
    "              if cnt%each_nth==0:\n",
    "                image=resize(image,(128,128))\n",
    "                # image = image / 255.\n",
    "                frames.append(image)\n",
    "            except Exception as e:\n",
    "                print(e)\n",
    "        videos.append(frames)\n",
    "    \n",
    "    return videos"
   ]
  },
  {
   "cell_type": "code",
   "execution_count": 8,
   "metadata": {},
   "outputs": [],
   "source": [
    "def select_frames(frames_arr , n=10):\n",
    "    videos=[]\n",
    "    for i in range(len(frames_arr)):\n",
    "        frames=[]\n",
    "        for t in np.linspace(0, len(frames_arr[i])-1, num=n):\n",
    "            frames.append(frames_arr[i][int(t)])\n",
    "        videos.append(frames)\n",
    "        \n",
    "    videos = np.array(videos)\n",
    "    print(videos.shape)\n",
    "    return videos"
   ]
  },
  {
   "cell_type": "code",
   "execution_count": 9,
   "metadata": {},
   "outputs": [
    {
     "name": "stdout",
     "output_type": "stream",
     "text": [
      "99.836\n"
     ]
    },
    {
     "name": "stderr",
     "output_type": "stream",
     "text": [
      "[ WARN:0@24.572] global /private/var/folders/nz/j6p8yfhx1mv_0grj5xl4650h0000gp/T/abs_562_cazh1h/croots/recipe/opencv-suite_1664548333142/work/modules/videoio/src/cap_gstreamer.cpp (2386) handleMessage OpenCV | GStreamer warning: your GStreamer installation is missing a required plugin\n",
      "[ WARN:0@24.572] global /private/var/folders/nz/j6p8yfhx1mv_0grj5xl4650h0000gp/T/abs_562_cazh1h/croots/recipe/opencv-suite_1664548333142/work/modules/videoio/src/cap_gstreamer.cpp (2402) handleMessage OpenCV | GStreamer warning: Embedded video playback halted; module uridecodebin609 reported: Your GStreamer installation is missing a plug-in.\n",
      "[ WARN:0@24.572] global /private/var/folders/nz/j6p8yfhx1mv_0grj5xl4650h0000gp/T/abs_562_cazh1h/croots/recipe/opencv-suite_1664548333142/work/modules/videoio/src/cap_gstreamer.cpp (1356) open OpenCV | GStreamer warning: unable to start pipeline\n",
      "[ WARN:0@24.572] global /private/var/folders/nz/j6p8yfhx1mv_0grj5xl4650h0000gp/T/abs_562_cazh1h/croots/recipe/opencv-suite_1664548333142/work/modules/videoio/src/cap_gstreamer.cpp (862) isPipelinePlaying OpenCV | GStreamer warning: GStreamer: pipeline have not been created\n"
     ]
    },
    {
     "name": "stdout",
     "output_type": "stream",
     "text": [
      "(610, 30, 128, 128, 3)\n"
     ]
    }
   ],
   "source": [
    "X_frames = read_frames('./data/train/', content)\n",
    "X_frames = select_frames(X_frames, 30)"
   ]
  },
  {
   "cell_type": "code",
   "execution_count": 10,
   "metadata": {},
   "outputs": [],
   "source": [
    "_, xte, _, yte = train_test_split(X_frames, y, shuffle=True, test_size=0.2, random_state=42)"
   ]
  },
  {
   "cell_type": "code",
   "execution_count": 11,
   "metadata": {},
   "outputs": [],
   "source": [
    "ytr = to_categorical(y, 5)\n",
    "yte = to_categorical(yte, 5)"
   ]
  },
  {
   "cell_type": "code",
   "execution_count": 12,
   "metadata": {},
   "outputs": [
    {
     "data": {
      "text/plain": [
       "((610, 30, 128, 128, 3), (122, 30, 128, 128, 3), (610, 5), (122, 5))"
      ]
     },
     "execution_count": 12,
     "metadata": {},
     "output_type": "execute_result"
    }
   ],
   "source": [
    "X_frames.shape, xte.shape, ytr.shape, yte.shape"
   ]
  },
  {
   "attachments": {},
   "cell_type": "markdown",
   "metadata": {},
   "source": [
    "## Building model"
   ]
  },
  {
   "attachments": {},
   "cell_type": "markdown",
   "metadata": {},
   "source": [
    "* previous version\n",
    "* 차이점: train data 100% 다 활용, image 픽셀 정규화 적용. epochs 더 많이. 이에 따른 Earlystopping callback 추가"
   ]
  },
  {
   "cell_type": "code",
   "execution_count": 13,
   "metadata": {},
   "outputs": [],
   "source": [
    "def list_to_stack(xs):\n",
    "    xs = tf.stack(xs, axis = 1)\n",
    "    s = tf.shape(xs)\n",
    "\n",
    "    return xs"
   ]
  },
  {
   "cell_type": "code",
   "execution_count": 14,
   "metadata": {},
   "outputs": [
    {
     "name": "stdout",
     "output_type": "stream",
     "text": [
      "Metal device set to: Apple M1 Max\n",
      "\n",
      "systemMemory: 32.00 GB\n",
      "maxCacheSize: 10.67 GB\n",
      "\n"
     ]
    },
    {
     "name": "stderr",
     "output_type": "stream",
     "text": [
      "2023-01-28 15:18:56.952444: I tensorflow/core/common_runtime/pluggable_device/pluggable_device_factory.cc:305] Could not identify NUMA node of platform GPU ID 0, defaulting to 0. Your kernel may not have been built with NUMA support.\n",
      "2023-01-28 15:18:56.953046: I tensorflow/core/common_runtime/pluggable_device/pluggable_device_factory.cc:271] Created TensorFlow device (/job:localhost/replica:0/task:0/device:GPU:0 with 0 MB memory) -> physical PluggableDevice (device: 0, name: METAL, pci bus id: <undefined>)\n"
     ]
    },
    {
     "name": "stdout",
     "output_type": "stream",
     "text": [
      "Model: \"model\"\n",
      "__________________________________________________________________________________________________\n",
      " Layer (type)                   Output Shape         Param #     Connected to                     \n",
      "==================================================================================================\n",
      " input_1 (InputLayer)           [(None, 30, 128, 12  0           []                               \n",
      "                                8, 3)]                                                            \n",
      "                                                                                                  \n",
      " lambda (Lambda)                (None, 128, 128, 3)  0           ['input_1[0][0]']                \n",
      "                                                                                                  \n",
      " lambda_1 (Lambda)              (None, 128, 128, 3)  0           ['input_1[0][0]']                \n",
      "                                                                                                  \n",
      " lambda_2 (Lambda)              (None, 128, 128, 3)  0           ['input_1[0][0]']                \n",
      "                                                                                                  \n",
      " lambda_3 (Lambda)              (None, 128, 128, 3)  0           ['input_1[0][0]']                \n",
      "                                                                                                  \n",
      " lambda_4 (Lambda)              (None, 128, 128, 3)  0           ['input_1[0][0]']                \n",
      "                                                                                                  \n",
      " lambda_5 (Lambda)              (None, 128, 128, 3)  0           ['input_1[0][0]']                \n",
      "                                                                                                  \n",
      " lambda_6 (Lambda)              (None, 128, 128, 3)  0           ['input_1[0][0]']                \n",
      "                                                                                                  \n",
      " lambda_7 (Lambda)              (None, 128, 128, 3)  0           ['input_1[0][0]']                \n",
      "                                                                                                  \n",
      " lambda_8 (Lambda)              (None, 128, 128, 3)  0           ['input_1[0][0]']                \n",
      "                                                                                                  \n",
      " lambda_9 (Lambda)              (None, 128, 128, 3)  0           ['input_1[0][0]']                \n",
      "                                                                                                  \n",
      " batch_normalization (BatchNorm  (None, 128, 128, 3)  12         ['lambda[0][0]']                 \n",
      " alization)                                                                                       \n",
      "                                                                                                  \n",
      " batch_normalization_3 (BatchNo  (None, 128, 128, 3)  12         ['lambda_1[0][0]']               \n",
      " rmalization)                                                                                     \n",
      "                                                                                                  \n",
      " batch_normalization_6 (BatchNo  (None, 128, 128, 3)  12         ['lambda_2[0][0]']               \n",
      " rmalization)                                                                                     \n",
      "                                                                                                  \n",
      " batch_normalization_9 (BatchNo  (None, 128, 128, 3)  12         ['lambda_3[0][0]']               \n",
      " rmalization)                                                                                     \n",
      "                                                                                                  \n",
      " batch_normalization_12 (BatchN  (None, 128, 128, 3)  12         ['lambda_4[0][0]']               \n",
      " ormalization)                                                                                    \n",
      "                                                                                                  \n",
      " batch_normalization_15 (BatchN  (None, 128, 128, 3)  12         ['lambda_5[0][0]']               \n",
      " ormalization)                                                                                    \n",
      "                                                                                                  \n",
      " batch_normalization_18 (BatchN  (None, 128, 128, 3)  12         ['lambda_6[0][0]']               \n",
      " ormalization)                                                                                    \n",
      "                                                                                                  \n",
      " batch_normalization_21 (BatchN  (None, 128, 128, 3)  12         ['lambda_7[0][0]']               \n",
      " ormalization)                                                                                    \n",
      "                                                                                                  \n",
      " batch_normalization_24 (BatchN  (None, 128, 128, 3)  12         ['lambda_8[0][0]']               \n",
      " ormalization)                                                                                    \n",
      "                                                                                                  \n",
      " batch_normalization_27 (BatchN  (None, 128, 128, 3)  12         ['lambda_9[0][0]']               \n",
      " ormalization)                                                                                    \n",
      "                                                                                                  \n",
      " conv2d (Conv2D)                (None, 128, 128, 20  560         ['batch_normalization[0][0]']    \n",
      "                                )                                                                 \n",
      "                                                                                                  \n",
      " conv2d_3 (Conv2D)              (None, 128, 128, 20  560         ['batch_normalization_3[0][0]']  \n",
      "                                )                                                                 \n",
      "                                                                                                  \n",
      " conv2d_6 (Conv2D)              (None, 128, 128, 20  560         ['batch_normalization_6[0][0]']  \n",
      "                                )                                                                 \n",
      "                                                                                                  \n",
      " conv2d_9 (Conv2D)              (None, 128, 128, 20  560         ['batch_normalization_9[0][0]']  \n",
      "                                )                                                                 \n",
      "                                                                                                  \n",
      " conv2d_12 (Conv2D)             (None, 128, 128, 20  560         ['batch_normalization_12[0][0]'] \n",
      "                                )                                                                 \n",
      "                                                                                                  \n",
      " conv2d_15 (Conv2D)             (None, 128, 128, 20  560         ['batch_normalization_15[0][0]'] \n",
      "                                )                                                                 \n",
      "                                                                                                  \n",
      " conv2d_18 (Conv2D)             (None, 128, 128, 20  560         ['batch_normalization_18[0][0]'] \n",
      "                                )                                                                 \n",
      "                                                                                                  \n",
      " conv2d_21 (Conv2D)             (None, 128, 128, 20  560         ['batch_normalization_21[0][0]'] \n",
      "                                )                                                                 \n",
      "                                                                                                  \n",
      " conv2d_24 (Conv2D)             (None, 128, 128, 20  560         ['batch_normalization_24[0][0]'] \n",
      "                                )                                                                 \n",
      "                                                                                                  \n",
      " conv2d_27 (Conv2D)             (None, 128, 128, 20  560         ['batch_normalization_27[0][0]'] \n",
      "                                )                                                                 \n",
      "                                                                                                  \n",
      " batch_normalization_1 (BatchNo  (None, 128, 128, 20  80         ['conv2d[0][0]']                 \n",
      " rmalization)                   )                                                                 \n",
      "                                                                                                  \n",
      " batch_normalization_4 (BatchNo  (None, 128, 128, 20  80         ['conv2d_3[0][0]']               \n",
      " rmalization)                   )                                                                 \n",
      "                                                                                                  \n",
      " batch_normalization_7 (BatchNo  (None, 128, 128, 20  80         ['conv2d_6[0][0]']               \n",
      " rmalization)                   )                                                                 \n",
      "                                                                                                  \n",
      " batch_normalization_10 (BatchN  (None, 128, 128, 20  80         ['conv2d_9[0][0]']               \n",
      " ormalization)                  )                                                                 \n",
      "                                                                                                  \n",
      " batch_normalization_13 (BatchN  (None, 128, 128, 20  80         ['conv2d_12[0][0]']              \n",
      " ormalization)                  )                                                                 \n",
      "                                                                                                  \n",
      " batch_normalization_16 (BatchN  (None, 128, 128, 20  80         ['conv2d_15[0][0]']              \n",
      " ormalization)                  )                                                                 \n",
      "                                                                                                  \n",
      " batch_normalization_19 (BatchN  (None, 128, 128, 20  80         ['conv2d_18[0][0]']              \n",
      " ormalization)                  )                                                                 \n",
      "                                                                                                  \n",
      " batch_normalization_22 (BatchN  (None, 128, 128, 20  80         ['conv2d_21[0][0]']              \n",
      " ormalization)                  )                                                                 \n",
      "                                                                                                  \n",
      " batch_normalization_25 (BatchN  (None, 128, 128, 20  80         ['conv2d_24[0][0]']              \n",
      " ormalization)                  )                                                                 \n",
      "                                                                                                  \n",
      " batch_normalization_28 (BatchN  (None, 128, 128, 20  80         ['conv2d_27[0][0]']              \n",
      " ormalization)                  )                                                                 \n",
      "                                                                                                  \n",
      " max_pooling2d (MaxPooling2D)   (None, 64, 64, 20)   0           ['batch_normalization_1[0][0]']  \n",
      "                                                                                                  \n",
      " max_pooling2d_2 (MaxPooling2D)  (None, 64, 64, 20)  0           ['batch_normalization_4[0][0]']  \n",
      "                                                                                                  \n",
      " max_pooling2d_4 (MaxPooling2D)  (None, 64, 64, 20)  0           ['batch_normalization_7[0][0]']  \n",
      "                                                                                                  \n",
      " max_pooling2d_6 (MaxPooling2D)  (None, 64, 64, 20)  0           ['batch_normalization_10[0][0]'] \n",
      "                                                                                                  \n",
      " max_pooling2d_8 (MaxPooling2D)  (None, 64, 64, 20)  0           ['batch_normalization_13[0][0]'] \n",
      "                                                                                                  \n",
      " max_pooling2d_10 (MaxPooling2D  (None, 64, 64, 20)  0           ['batch_normalization_16[0][0]'] \n",
      " )                                                                                                \n",
      "                                                                                                  \n",
      " max_pooling2d_12 (MaxPooling2D  (None, 64, 64, 20)  0           ['batch_normalization_19[0][0]'] \n",
      " )                                                                                                \n",
      "                                                                                                  \n",
      " max_pooling2d_14 (MaxPooling2D  (None, 64, 64, 20)  0           ['batch_normalization_22[0][0]'] \n",
      " )                                                                                                \n",
      "                                                                                                  \n",
      " max_pooling2d_16 (MaxPooling2D  (None, 64, 64, 20)  0           ['batch_normalization_25[0][0]'] \n",
      " )                                                                                                \n",
      "                                                                                                  \n",
      " max_pooling2d_18 (MaxPooling2D  (None, 64, 64, 20)  0           ['batch_normalization_28[0][0]'] \n",
      " )                                                                                                \n",
      "                                                                                                  \n",
      " conv2d_1 (Conv2D)              (None, 64, 64, 30)   5430        ['max_pooling2d[0][0]']          \n",
      "                                                                                                  \n",
      " conv2d_4 (Conv2D)              (None, 64, 64, 30)   5430        ['max_pooling2d_2[0][0]']        \n",
      "                                                                                                  \n",
      " conv2d_7 (Conv2D)              (None, 64, 64, 30)   5430        ['max_pooling2d_4[0][0]']        \n",
      "                                                                                                  \n",
      " conv2d_10 (Conv2D)             (None, 64, 64, 30)   5430        ['max_pooling2d_6[0][0]']        \n",
      "                                                                                                  \n",
      " conv2d_13 (Conv2D)             (None, 64, 64, 30)   5430        ['max_pooling2d_8[0][0]']        \n",
      "                                                                                                  \n",
      " conv2d_16 (Conv2D)             (None, 64, 64, 30)   5430        ['max_pooling2d_10[0][0]']       \n",
      "                                                                                                  \n",
      " conv2d_19 (Conv2D)             (None, 64, 64, 30)   5430        ['max_pooling2d_12[0][0]']       \n",
      "                                                                                                  \n",
      " conv2d_22 (Conv2D)             (None, 64, 64, 30)   5430        ['max_pooling2d_14[0][0]']       \n",
      "                                                                                                  \n",
      " conv2d_25 (Conv2D)             (None, 64, 64, 30)   5430        ['max_pooling2d_16[0][0]']       \n",
      "                                                                                                  \n",
      " conv2d_28 (Conv2D)             (None, 64, 64, 30)   5430        ['max_pooling2d_18[0][0]']       \n",
      "                                                                                                  \n",
      " batch_normalization_2 (BatchNo  (None, 64, 64, 30)  120         ['conv2d_1[0][0]']               \n",
      " rmalization)                                                                                     \n",
      "                                                                                                  \n",
      " batch_normalization_5 (BatchNo  (None, 64, 64, 30)  120         ['conv2d_4[0][0]']               \n",
      " rmalization)                                                                                     \n",
      "                                                                                                  \n",
      " batch_normalization_8 (BatchNo  (None, 64, 64, 30)  120         ['conv2d_7[0][0]']               \n",
      " rmalization)                                                                                     \n",
      "                                                                                                  \n",
      " batch_normalization_11 (BatchN  (None, 64, 64, 30)  120         ['conv2d_10[0][0]']              \n",
      " ormalization)                                                                                    \n",
      "                                                                                                  \n",
      " batch_normalization_14 (BatchN  (None, 64, 64, 30)  120         ['conv2d_13[0][0]']              \n",
      " ormalization)                                                                                    \n",
      "                                                                                                  \n",
      " batch_normalization_17 (BatchN  (None, 64, 64, 30)  120         ['conv2d_16[0][0]']              \n",
      " ormalization)                                                                                    \n",
      "                                                                                                  \n",
      " batch_normalization_20 (BatchN  (None, 64, 64, 30)  120         ['conv2d_19[0][0]']              \n",
      " ormalization)                                                                                    \n",
      "                                                                                                  \n",
      " batch_normalization_23 (BatchN  (None, 64, 64, 30)  120         ['conv2d_22[0][0]']              \n",
      " ormalization)                                                                                    \n",
      "                                                                                                  \n",
      " batch_normalization_26 (BatchN  (None, 64, 64, 30)  120         ['conv2d_25[0][0]']              \n",
      " ormalization)                                                                                    \n",
      "                                                                                                  \n",
      " batch_normalization_29 (BatchN  (None, 64, 64, 30)  120         ['conv2d_28[0][0]']              \n",
      " ormalization)                                                                                    \n",
      "                                                                                                  \n",
      " max_pooling2d_1 (MaxPooling2D)  (None, 32, 32, 30)  0           ['batch_normalization_2[0][0]']  \n",
      "                                                                                                  \n",
      " max_pooling2d_3 (MaxPooling2D)  (None, 32, 32, 30)  0           ['batch_normalization_5[0][0]']  \n",
      "                                                                                                  \n",
      " max_pooling2d_5 (MaxPooling2D)  (None, 32, 32, 30)  0           ['batch_normalization_8[0][0]']  \n",
      "                                                                                                  \n",
      " max_pooling2d_7 (MaxPooling2D)  (None, 32, 32, 30)  0           ['batch_normalization_11[0][0]'] \n",
      "                                                                                                  \n",
      " max_pooling2d_9 (MaxPooling2D)  (None, 32, 32, 30)  0           ['batch_normalization_14[0][0]'] \n",
      "                                                                                                  \n",
      " max_pooling2d_11 (MaxPooling2D  (None, 32, 32, 30)  0           ['batch_normalization_17[0][0]'] \n",
      " )                                                                                                \n",
      "                                                                                                  \n",
      " max_pooling2d_13 (MaxPooling2D  (None, 32, 32, 30)  0           ['batch_normalization_20[0][0]'] \n",
      " )                                                                                                \n",
      "                                                                                                  \n",
      " max_pooling2d_15 (MaxPooling2D  (None, 32, 32, 30)  0           ['batch_normalization_23[0][0]'] \n",
      " )                                                                                                \n",
      "                                                                                                  \n",
      " max_pooling2d_17 (MaxPooling2D  (None, 32, 32, 30)  0           ['batch_normalization_26[0][0]'] \n",
      " )                                                                                                \n",
      "                                                                                                  \n",
      " max_pooling2d_19 (MaxPooling2D  (None, 32, 32, 30)  0           ['batch_normalization_29[0][0]'] \n",
      " )                                                                                                \n",
      "                                                                                                  \n",
      " conv2d_2 (Conv2D)              (None, 32, 32, 30)   8130        ['max_pooling2d_1[0][0]']        \n",
      "                                                                                                  \n",
      " conv2d_5 (Conv2D)              (None, 32, 32, 30)   8130        ['max_pooling2d_3[0][0]']        \n",
      "                                                                                                  \n",
      " conv2d_8 (Conv2D)              (None, 32, 32, 30)   8130        ['max_pooling2d_5[0][0]']        \n",
      "                                                                                                  \n",
      " conv2d_11 (Conv2D)             (None, 32, 32, 30)   8130        ['max_pooling2d_7[0][0]']        \n",
      "                                                                                                  \n",
      " conv2d_14 (Conv2D)             (None, 32, 32, 30)   8130        ['max_pooling2d_9[0][0]']        \n",
      "                                                                                                  \n",
      " conv2d_17 (Conv2D)             (None, 32, 32, 30)   8130        ['max_pooling2d_11[0][0]']       \n",
      "                                                                                                  \n",
      " conv2d_20 (Conv2D)             (None, 32, 32, 30)   8130        ['max_pooling2d_13[0][0]']       \n",
      "                                                                                                  \n",
      " conv2d_23 (Conv2D)             (None, 32, 32, 30)   8130        ['max_pooling2d_15[0][0]']       \n",
      "                                                                                                  \n",
      " conv2d_26 (Conv2D)             (None, 32, 32, 30)   8130        ['max_pooling2d_17[0][0]']       \n",
      "                                                                                                  \n",
      " conv2d_29 (Conv2D)             (None, 32, 32, 30)   8130        ['max_pooling2d_19[0][0]']       \n",
      "                                                                                                  \n",
      " lambda_10 (Lambda)             (None, 10, 32, 32,   0           ['conv2d_2[0][0]',               \n",
      "                                30)                               'conv2d_5[0][0]',               \n",
      "                                                                  'conv2d_8[0][0]',               \n",
      "                                                                  'conv2d_11[0][0]',              \n",
      "                                                                  'conv2d_14[0][0]',              \n",
      "                                                                  'conv2d_17[0][0]',              \n",
      "                                                                  'conv2d_20[0][0]',              \n",
      "                                                                  'conv2d_23[0][0]',              \n",
      "                                                                  'conv2d_26[0][0]',              \n",
      "                                                                  'conv2d_29[0][0]']              \n",
      "                                                                                                  \n",
      " conv3d (Conv3D)                (None, 10, 32, 32,   40550       ['lambda_10[0][0]']              \n",
      "                                50)                                                               \n",
      "                                                                                                  \n",
      " reshape (Reshape)              (None, 10, 51200)    0           ['conv3d[0][0]']                 \n",
      "                                                                                                  \n",
      " gru (GRU)                      (None, 10, 25)       3842025     ['reshape[0][0]']                \n",
      "                                                                                                  \n",
      " gru_1 (GRU)                    (None, 50)           11550       ['gru[0][0]']                    \n",
      "                                                                                                  \n",
      " dense (Dense)                  (None, 100)          5100        ['gru_1[0][0]']                  \n",
      "                                                                                                  \n",
      " dense_1 (Dense)                (None, 5)            505         ['dense[0][0]']                  \n",
      "                                                                                                  \n",
      "==================================================================================================\n",
      "Total params: 4,043,050\n",
      "Trainable params: 4,041,990\n",
      "Non-trainable params: 1,060\n",
      "__________________________________________________________________________________________________\n"
     ]
    },
    {
     "name": "stderr",
     "output_type": "stream",
     "text": [
      "/Users/hansanghui/opt/anaconda3/envs/dacon1/lib/python3.8/site-packages/keras/optimizers/optimizer_v2/gradient_descent.py:108: UserWarning: The `lr` argument is deprecated, use `learning_rate` instead.\n",
      "  super(SGD, self).__init__(name, **kwargs)\n"
     ]
    }
   ],
   "source": [
    "ish=(30, 128, 128, 3)\n",
    "  \n",
    "xs=[]\n",
    "\n",
    "\n",
    "inp = Input(ish)\n",
    "\n",
    "for slice_indx in range(0,10,1):\n",
    "  x=Lambda(lambda x: x[:, slice_indx])(inp)\n",
    "  x=BatchNormalization(momentum=0.8)(x)\n",
    "  x=Conv2D(filters=20, kernel_size=3, padding='same', activation='relu')(x)\n",
    "  x=BatchNormalization(momentum=0.8)(x)\n",
    "  x=MaxPooling2D(pool_size=2)(x)\n",
    "  \n",
    "  x=Conv2D(filters=30, kernel_size=3, padding='same', activation='relu')(x)\n",
    "  x=BatchNormalization(momentum=0.8)(x)\n",
    "  x=MaxPooling2D(pool_size=2)(x)\n",
    "  x=Conv2D(filters=30, kernel_size=3, padding='same', activation='relu')(x)\n",
    "    \n",
    "  xs.append(x)\n",
    "  \n",
    "\n",
    "t=Lambda(list_to_stack)(xs)\n",
    "t=Conv3D(50,3,padding='same')(t)\n",
    "# t=BatchNormalization(momentum=0.8)(t) # 왜 에러나지?\n",
    "target_shape=(10,32*32*50)\n",
    "t=Reshape(target_shape)(t)\n",
    "t=GRU(25, return_sequences=True)(t)\n",
    "t=GRU(50, return_sequences=False,dropout=0.5)(t)\n",
    "\n",
    "t=Dense(100,'relu')(t)\n",
    "out=Dense(5, activation='softmax')(t)\n",
    "\n",
    "model = Model(inputs=inp, outputs=out)\n",
    "opt = tf.keras.optimizers.SGD(lr=0.0087)\n",
    "model.compile(loss = \"categorical_crossentropy\", optimizer = opt, metrics=['accuracy'])\n",
    "model.summary()"
   ]
  },
  {
   "cell_type": "code",
   "execution_count": 15,
   "metadata": {},
   "outputs": [
    {
     "name": "stdout",
     "output_type": "stream",
     "text": [
      "Epoch 1/11\n"
     ]
    },
    {
     "name": "stderr",
     "output_type": "stream",
     "text": [
      "2023-01-28 15:19:05.220527: W tensorflow/core/platform/profile_utils/cpu_utils.cc:128] Failed to get CPU frequency: 0 Hz\n",
      "2023-01-28 15:19:07.157634: I tensorflow/core/grappler/optimizers/custom_graph_optimizer_registry.cc:113] Plugin optimizer for device_type GPU is enabled.\n",
      "2023-01-28 15:19:07.895264: I tensorflow/core/grappler/optimizers/custom_graph_optimizer_registry.cc:113] Plugin optimizer for device_type GPU is enabled.\n",
      "2023-01-28 15:19:07.954163: I tensorflow/core/grappler/optimizers/custom_graph_optimizer_registry.cc:113] Plugin optimizer for device_type GPU is enabled.\n",
      "2023-01-28 15:19:08.043274: I tensorflow/core/grappler/optimizers/custom_graph_optimizer_registry.cc:113] Plugin optimizer for device_type GPU is enabled.\n",
      "2023-01-28 15:19:08.124278: I tensorflow/core/grappler/optimizers/custom_graph_optimizer_registry.cc:113] Plugin optimizer for device_type GPU is enabled.\n"
     ]
    },
    {
     "name": "stdout",
     "output_type": "stream",
     "text": [
      "61/61 [==============================] - ETA: 0s - loss: 1.6062 - accuracy: 0.2525"
     ]
    },
    {
     "name": "stderr",
     "output_type": "stream",
     "text": [
      "2023-01-28 15:19:29.802413: I tensorflow/core/grappler/optimizers/custom_graph_optimizer_registry.cc:113] Plugin optimizer for device_type GPU is enabled.\n",
      "2023-01-28 15:19:30.368544: I tensorflow/core/grappler/optimizers/custom_graph_optimizer_registry.cc:113] Plugin optimizer for device_type GPU is enabled.\n",
      "2023-01-28 15:19:30.412792: I tensorflow/core/grappler/optimizers/custom_graph_optimizer_registry.cc:113] Plugin optimizer for device_type GPU is enabled.\n"
     ]
    },
    {
     "name": "stdout",
     "output_type": "stream",
     "text": [
      "61/61 [==============================] - 26s 380ms/step - loss: 1.6062 - accuracy: 0.2525 - val_loss: 1.4786 - val_accuracy: 0.5000\n",
      "Epoch 2/11\n",
      "61/61 [==============================] - 22s 360ms/step - loss: 1.4589 - accuracy: 0.4295 - val_loss: 1.1999 - val_accuracy: 0.7049\n",
      "Epoch 3/11\n",
      "61/61 [==============================] - 21s 339ms/step - loss: 1.2551 - accuracy: 0.5656 - val_loss: 0.9944 - val_accuracy: 0.7951\n",
      "Epoch 4/11\n",
      "61/61 [==============================] - 21s 343ms/step - loss: 1.0401 - accuracy: 0.7082 - val_loss: 0.7616 - val_accuracy: 0.8770\n",
      "Epoch 5/11\n",
      "61/61 [==============================] - 20s 332ms/step - loss: 0.8279 - accuracy: 0.7902 - val_loss: 0.5625 - val_accuracy: 0.8689\n",
      "Epoch 6/11\n",
      "61/61 [==============================] - 20s 327ms/step - loss: 0.6045 - accuracy: 0.8754 - val_loss: 0.3075 - val_accuracy: 0.9836\n",
      "Epoch 7/11\n",
      "61/61 [==============================] - 21s 337ms/step - loss: 0.4308 - accuracy: 0.9230 - val_loss: 0.2078 - val_accuracy: 0.9836\n",
      "Epoch 8/11\n",
      "61/61 [==============================] - 20s 328ms/step - loss: 0.2925 - accuracy: 0.9656 - val_loss: 0.1821 - val_accuracy: 0.9918\n",
      "Epoch 9/11\n",
      "61/61 [==============================] - 21s 337ms/step - loss: 0.2045 - accuracy: 0.9852 - val_loss: 0.0721 - val_accuracy: 1.0000\n",
      "Epoch 10/11\n",
      "61/61 [==============================] - 21s 350ms/step - loss: 0.1514 - accuracy: 0.9869 - val_loss: 0.0536 - val_accuracy: 1.0000\n",
      "Epoch 11/11\n",
      "61/61 [==============================] - 21s 341ms/step - loss: 0.0972 - accuracy: 0.9934 - val_loss: 0.0348 - val_accuracy: 1.0000\n"
     ]
    }
   ],
   "source": [
    "history = model.fit(X_frames, ytr, epochs=11, batch_size=10, validation_data=(xte, yte), shuffle  = True, \n",
    "                                                                              callbacks=tf.keras.callbacks.EarlyStopping(patience=2, monitor='val_loss'))"
   ]
  },
  {
   "cell_type": "code",
   "execution_count": 16,
   "metadata": {},
   "outputs": [
    {
     "name": "stderr",
     "output_type": "stream",
     "text": [
      "2023-01-28 15:23:08.291504: I tensorflow/core/grappler/optimizers/custom_graph_optimizer_registry.cc:113] Plugin optimizer for device_type GPU is enabled.\n"
     ]
    },
    {
     "name": "stdout",
     "output_type": "stream",
     "text": [
      " 1/20 [>.............................] - ETA: 24s"
     ]
    },
    {
     "name": "stderr",
     "output_type": "stream",
     "text": [
      "2023-01-28 15:23:08.883460: I tensorflow/core/grappler/optimizers/custom_graph_optimizer_registry.cc:113] Plugin optimizer for device_type GPU is enabled.\n",
      "2023-01-28 15:23:08.940156: I tensorflow/core/grappler/optimizers/custom_graph_optimizer_registry.cc:113] Plugin optimizer for device_type GPU is enabled.\n"
     ]
    },
    {
     "name": "stdout",
     "output_type": "stream",
     "text": [
      "20/20 [==============================] - 5s 197ms/step\n",
      "f1-score: 1.0000\n"
     ]
    }
   ],
   "source": [
    "from sklearn.metrics import f1_score\n",
    "\n",
    "preds = model.predict(X_frames)\n",
    "preds = np.argmax(preds, axis=1)\n",
    "f1 = f1_score(preds, train_df['label'], average='macro')\n",
    "print(f'f1-score: {f1:.4f}')"
   ]
  },
  {
   "attachments": {},
   "cell_type": "markdown",
   "metadata": {},
   "source": [
    "* inference modeling1"
   ]
  },
  {
   "cell_type": "code",
   "execution_count": 17,
   "metadata": {},
   "outputs": [
    {
     "data": {
      "text/html": [
       "<div>\n",
       "<style scoped>\n",
       "    .dataframe tbody tr th:only-of-type {\n",
       "        vertical-align: middle;\n",
       "    }\n",
       "\n",
       "    .dataframe tbody tr th {\n",
       "        vertical-align: top;\n",
       "    }\n",
       "\n",
       "    .dataframe thead th {\n",
       "        text-align: right;\n",
       "    }\n",
       "</style>\n",
       "<table border=\"1\" class=\"dataframe\">\n",
       "  <thead>\n",
       "    <tr style=\"text-align: right;\">\n",
       "      <th></th>\n",
       "      <th>id</th>\n",
       "      <th>path</th>\n",
       "    </tr>\n",
       "  </thead>\n",
       "  <tbody>\n",
       "    <tr>\n",
       "      <th>0</th>\n",
       "      <td>TEST_000</td>\n",
       "      <td>./test/TEST_000.mp4</td>\n",
       "    </tr>\n",
       "    <tr>\n",
       "      <th>1</th>\n",
       "      <td>TEST_001</td>\n",
       "      <td>./test/TEST_001.mp4</td>\n",
       "    </tr>\n",
       "    <tr>\n",
       "      <th>2</th>\n",
       "      <td>TEST_002</td>\n",
       "      <td>./test/TEST_002.mp4</td>\n",
       "    </tr>\n",
       "    <tr>\n",
       "      <th>3</th>\n",
       "      <td>TEST_003</td>\n",
       "      <td>./test/TEST_003.mp4</td>\n",
       "    </tr>\n",
       "    <tr>\n",
       "      <th>4</th>\n",
       "      <td>TEST_004</td>\n",
       "      <td>./test/TEST_004.mp4</td>\n",
       "    </tr>\n",
       "  </tbody>\n",
       "</table>\n",
       "</div>"
      ],
      "text/plain": [
       "         id                 path\n",
       "0  TEST_000  ./test/TEST_000.mp4\n",
       "1  TEST_001  ./test/TEST_001.mp4\n",
       "2  TEST_002  ./test/TEST_002.mp4\n",
       "3  TEST_003  ./test/TEST_003.mp4\n",
       "4  TEST_004  ./test/TEST_004.mp4"
      ]
     },
     "execution_count": 17,
     "metadata": {},
     "output_type": "execute_result"
    }
   ],
   "source": [
    "test = pd.read_csv('./data/test.csv')\n",
    "test.head()"
   ]
  },
  {
   "cell_type": "code",
   "execution_count": 18,
   "metadata": {},
   "outputs": [
    {
     "name": "stdout",
     "output_type": "stream",
     "text": [
      "99.346\n"
     ]
    },
    {
     "name": "stderr",
     "output_type": "stream",
     "text": [
      "[ WARN:0@286.416] global /private/var/folders/nz/j6p8yfhx1mv_0grj5xl4650h0000gp/T/abs_562_cazh1h/croots/recipe/opencv-suite_1664548333142/work/modules/videoio/src/cap_gstreamer.cpp (2386) handleMessage OpenCV | GStreamer warning: your GStreamer installation is missing a required plugin\n",
      "[ WARN:0@286.416] global /private/var/folders/nz/j6p8yfhx1mv_0grj5xl4650h0000gp/T/abs_562_cazh1h/croots/recipe/opencv-suite_1664548333142/work/modules/videoio/src/cap_gstreamer.cpp (2402) handleMessage OpenCV | GStreamer warning: Embedded video playback halted; module uridecodebin762 reported: Your GStreamer installation is missing a plug-in.\n",
      "[ WARN:0@286.416] global /private/var/folders/nz/j6p8yfhx1mv_0grj5xl4650h0000gp/T/abs_562_cazh1h/croots/recipe/opencv-suite_1664548333142/work/modules/videoio/src/cap_gstreamer.cpp (1356) open OpenCV | GStreamer warning: unable to start pipeline\n",
      "[ WARN:0@286.417] global /private/var/folders/nz/j6p8yfhx1mv_0grj5xl4650h0000gp/T/abs_562_cazh1h/croots/recipe/opencv-suite_1664548333142/work/modules/videoio/src/cap_gstreamer.cpp (862) isPipelinePlaying OpenCV | GStreamer warning: GStreamer: pipeline have not been created\n"
     ]
    },
    {
     "name": "stdout",
     "output_type": "stream",
     "text": [
      "(153, 30, 128, 128, 3)\n",
      "5/5 [==============================] - 2s 310ms/step\n"
     ]
    }
   ],
   "source": [
    "test_content = []\n",
    "\n",
    "for i in tqdm(range(len(test))):\n",
    "    file = test.loc[i, 'id']\n",
    "    fname = f'{file}.mp4'\n",
    "    test_content.append(fname)\n",
    "\n",
    "test_content = np.array(test_content)\n",
    "test_frames = read_frames('./data/test/', test_content)\n",
    "test_frames = select_frames(test_frames, 30)\n",
    "\n",
    "t_preds = model.predict(test_frames)\n",
    "t_preds = np.argmax(t_preds, axis=1)"
   ]
  },
  {
   "attachments": {},
   "cell_type": "markdown",
   "metadata": {},
   "source": [
    "* modeling1 submission"
   ]
  },
  {
   "cell_type": "code",
   "execution_count": 19,
   "metadata": {},
   "outputs": [
    {
     "data": {
      "text/html": [
       "<div>\n",
       "<style scoped>\n",
       "    .dataframe tbody tr th:only-of-type {\n",
       "        vertical-align: middle;\n",
       "    }\n",
       "\n",
       "    .dataframe tbody tr th {\n",
       "        vertical-align: top;\n",
       "    }\n",
       "\n",
       "    .dataframe thead th {\n",
       "        text-align: right;\n",
       "    }\n",
       "</style>\n",
       "<table border=\"1\" class=\"dataframe\">\n",
       "  <thead>\n",
       "    <tr style=\"text-align: right;\">\n",
       "      <th></th>\n",
       "      <th>id</th>\n",
       "      <th>label</th>\n",
       "    </tr>\n",
       "  </thead>\n",
       "  <tbody>\n",
       "    <tr>\n",
       "      <th>0</th>\n",
       "      <td>TEST_000</td>\n",
       "      <td>0</td>\n",
       "    </tr>\n",
       "    <tr>\n",
       "      <th>1</th>\n",
       "      <td>TEST_001</td>\n",
       "      <td>3</td>\n",
       "    </tr>\n",
       "    <tr>\n",
       "      <th>2</th>\n",
       "      <td>TEST_002</td>\n",
       "      <td>0</td>\n",
       "    </tr>\n",
       "    <tr>\n",
       "      <th>3</th>\n",
       "      <td>TEST_003</td>\n",
       "      <td>2</td>\n",
       "    </tr>\n",
       "    <tr>\n",
       "      <th>4</th>\n",
       "      <td>TEST_004</td>\n",
       "      <td>2</td>\n",
       "    </tr>\n",
       "  </tbody>\n",
       "</table>\n",
       "</div>"
      ],
      "text/plain": [
       "         id  label\n",
       "0  TEST_000      0\n",
       "1  TEST_001      3\n",
       "2  TEST_002      0\n",
       "3  TEST_003      2\n",
       "4  TEST_004      2"
      ]
     },
     "execution_count": 19,
     "metadata": {},
     "output_type": "execute_result"
    }
   ],
   "source": [
    "submit = pd.read_csv('./data/sample_submission.csv')\n",
    "submit['label'] = t_preds\n",
    "submit.head()"
   ]
  },
  {
   "cell_type": "code",
   "execution_count": 20,
   "metadata": {},
   "outputs": [],
   "source": [
    "submit.to_csv('./modeling2.csv', index=False)"
   ]
  },
  {
   "attachments": {},
   "cell_type": "markdown",
   "metadata": {},
   "source": [
    "* train data 전부 사용, earlystopping condition 추가, 이미지 픽셀 정규화 적용 : 0.4254363181\n",
    "* train data 전부 사용, earlystopping condition 추가 : 0.627346441\n",
    "\n",
    "-> 흠,,, 이유를 모르겠다."
   ]
  },
  {
   "attachments": {},
   "cell_type": "markdown",
   "metadata": {},
   "source": [
    "## EfficientNetB0"
   ]
  },
  {
   "cell_type": "code",
   "execution_count": 23,
   "metadata": {},
   "outputs": [],
   "source": [
    "# net = tf.keras.applications.EfficientNetB0(include_top = False)\n",
    "# net.trainable = False\n",
    "\n",
    "# model2 = tf.keras.Sequential([\n",
    "#     tf.keras.layers.Rescaling(scale=255),\n",
    "#     tf.keras.layers.TimeDistributed(net),\n",
    "#     tf.keras.layers.Dense(5),\n",
    "#     tf.keras.layers.GlobalAveragePooling3D()\n",
    "# ])\n",
    "\n",
    "# model2.compile(optimizer = 'adam',\n",
    "#               loss='categorical_crossentropy',\n",
    "#               metrics=['accuracy'])"
   ]
  },
  {
   "cell_type": "code",
   "execution_count": 24,
   "metadata": {},
   "outputs": [],
   "source": [
    "# model2.fit(X_frames, ytr, \n",
    "#           epochs = 10,\n",
    "#           batch_size=10,\n",
    "#           validation_data = (xte, yte),\n",
    "#           callbacks = tf.keras.callbacks.EarlyStopping(patience = 2, monitor = 'val_loss'))"
   ]
  },
  {
   "attachments": {},
   "cell_type": "markdown",
   "metadata": {},
   "source": [
    "* 이 친구는 다음 기회에"
   ]
  },
  {
   "attachments": {},
   "cell_type": "markdown",
   "metadata": {},
   "source": [
    "## I3D"
   ]
  },
  {
   "cell_type": "markdown",
   "metadata": {},
   "source": []
  }
 ],
 "metadata": {
  "kernelspec": {
   "display_name": "dacon1",
   "language": "python",
   "name": "python3"
  },
  "language_info": {
   "codemirror_mode": {
    "name": "ipython",
    "version": 3
   },
   "file_extension": ".py",
   "mimetype": "text/x-python",
   "name": "python",
   "nbconvert_exporter": "python",
   "pygments_lexer": "ipython3",
   "version": "3.8.16"
  },
  "orig_nbformat": 4,
  "vscode": {
   "interpreter": {
    "hash": "075d2fee0e726cd55db21fee7f1e6111ee4ebdb9f86cd89da0b2348257ebd538"
   }
  }
 },
 "nbformat": 4,
 "nbformat_minor": 2
}
